{
 "cells": [
  {
   "cell_type": "code",
   "execution_count": 3,
   "id": "e8231431",
   "metadata": {},
   "outputs": [],
   "source": [
    "import csv\n",
    "\n",
    "input_file = 'input.txt'\n",
    "output_file = 'output.csv'\n",
    "\n",
    "with open(input_file, 'r', encoding='utf-8') as infile, open(output_file, 'w', newline='', encoding='utf-8') as outfile:\n",
    "    writer = csv.writer(outfile)\n",
    "    writer.writerow(['label', 'text'])  # Write header\n",
    "\n",
    "    for line in infile:\n",
    "        line = line.strip()\n",
    "        if not line:\n",
    "            continue  # skip empty lines\n",
    "        parts = line.split(maxsplit=1)\n",
    "        if len(parts) == 2:\n",
    "            label, text = parts\n",
    "        else:\n",
    "            label, text = parts[0], ''\n",
    "        writer.writerow([label, text])\n"
   ]
  },
  {
   "cell_type": "code",
   "execution_count": null,
   "id": "254a8697",
   "metadata": {},
   "outputs": [],
   "source": []
  }
 ],
 "metadata": {
  "kernelspec": {
   "display_name": "venv",
   "language": "python",
   "name": "python3"
  },
  "language_info": {
   "codemirror_mode": {
    "name": "ipython",
    "version": 3
   },
   "file_extension": ".py",
   "mimetype": "text/x-python",
   "name": "python",
   "nbconvert_exporter": "python",
   "pygments_lexer": "ipython3",
   "version": "3.12.3"
  }
 },
 "nbformat": 4,
 "nbformat_minor": 5
}
